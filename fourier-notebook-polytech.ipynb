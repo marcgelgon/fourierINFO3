{
 "cells": [
  {
   "cell_type": "markdown",
   "metadata": {},
   "source": [
    "## Exemple de calculs du produit scalaire entre fonctions ##"
   ]
  },
  {
   "cell_type": "code",
   "execution_count": 2,
   "metadata": {},
   "outputs": [],
   "source": [
    "from sympy import *  # la librairie pour le calcul symbolique \n",
    "%config InlineBackend.figure_formats = {'png', 'retina'} # makes nicer graphics\n",
    "init_printing(use_latex='mathjax') # pour afficher le resultat joliment\n",
    "x = symbols('x') # par la suite, x sera une variable de maths symbolique"
   ]
  },
  {
   "cell_type": "markdown",
   "metadata": {},
   "source": [
    "### produit scalaire entre $sin(x)$ et $sin(2x)$ ###"
   ]
  },
  {
   "cell_type": "code",
   "execution_count": 3,
   "metadata": {
    "collapsed": true
   },
   "outputs": [],
   "source": [
    "f=sin(x)  \n",
    "g=sin(2*x)"
   ]
  },
  {
   "cell_type": "markdown",
   "metadata": {},
   "source": [
    "exprimons, juste pour vérifier, le produit de ces fonctions"
   ]
  },
  {
   "cell_type": "code",
   "execution_count": 4,
   "metadata": {},
   "outputs": [
    {
     "data": {
      "text/latex": [
       "$$\\sin{\\left (x \\right )} \\sin{\\left (2 x \\right )}$$"
      ],
      "text/plain": [
       "sin(x)⋅sin(2⋅x)"
      ]
     },
     "execution_count": 4,
     "metadata": {},
     "output_type": "execute_result"
    }
   ],
   "source": [
    "f*g"
   ]
  },
  {
   "cell_type": "markdown",
   "metadata": {},
   "source": [
    "Affichons l'expression de la primitive de fg. Le `simplify` n'est pas indispensable mais fournit une expression un peu plus simple. On n'utilise pas cette primitive dans les calculs ultérieurs, c'est juste ici pour montrer qu'on peut le calculer si besoin."
   ]
  },
  {
   "cell_type": "code",
   "execution_count": 10,
   "metadata": {},
   "outputs": [
    {
     "data": {
      "text/latex": [
       "$$\\frac{2}{3} \\sin^{3}{\\left (x \\right )}$$"
      ],
      "text/plain": [
       "     3   \n",
       "2⋅sin (x)\n",
       "─────────\n",
       "    3    "
      ]
     },
     "execution_count": 10,
     "metadata": {},
     "output_type": "execute_result"
    }
   ],
   "source": [
    "simplify(integrate(f*g, x))"
   ]
  },
  {
   "cell_type": "markdown",
   "metadata": {},
   "source": [
    "On calcule numériquement ce qui nous est vraiment utile : l'intégrale du produit de `f`et `g`."
   ]
  },
  {
   "cell_type": "code",
   "execution_count": 11,
   "metadata": {},
   "outputs": [
    {
     "data": {
      "text/latex": [
       "$$0$$"
      ],
      "text/plain": [
       "0"
      ]
     },
     "execution_count": 11,
     "metadata": {},
     "output_type": "execute_result"
    }
   ],
   "source": [
    "borne_depart=0\n",
    "borne_arrivee=2*pi\n",
    "integrate(f*g, (x,borne_depart,borne_arrivee))"
   ]
  },
  {
   "cell_type": "markdown",
   "metadata": {},
   "source": [
    "On constate bien que les deux fonctions sont orthogonales"
   ]
  },
  {
   "cell_type": "markdown",
   "metadata": {},
   "source": [
    "### produit scalaire entre $sin(x)$ et $sin(x)$  - (c.a.d. $\\|sin(x)\\|^2$) ###"
   ]
  },
  {
   "cell_type": "code",
   "execution_count": 6,
   "metadata": {},
   "outputs": [
    {
     "data": {
      "text/latex": [
       "$$\\frac{x}{2} - \\frac{1}{2} \\sin{\\left (x \\right )} \\cos{\\left (x \\right )}$$"
      ],
      "text/plain": [
       "x   sin(x)⋅cos(x)\n",
       "─ - ─────────────\n",
       "2         2      "
      ]
     },
     "execution_count": 6,
     "metadata": {},
     "output_type": "execute_result"
    }
   ],
   "source": [
    "f=sin(x) \n",
    "integrate(f*f, x)  # On aurait pu utiliser simplify en plus, pour avoir un autre formulation de cette expression"
   ]
  },
  {
   "cell_type": "code",
   "execution_count": 7,
   "metadata": {},
   "outputs": [],
   "source": [
    "borne_depart=0\n",
    "borne_arrivee=2*pi\n",
    "b=integrate(f*f, (x,borne_depart,borne_arrivee))"
   ]
  },
  {
   "cell_type": "markdown",
   "metadata": {},
   "source": [
    "On constate bien que les deux fonctions ne sont évidemment pas orthogonales, puisqu'il s'agit du produit scalaire d'une fonction avec elle-même, donc la norme au carré"
   ]
  },
  {
   "cell_type": "code",
   "execution_count": 17,
   "metadata": {},
   "outputs": [
    {
     "data": {
      "text/latex": [
       "$$\\begin{cases} 0 & \\text{for}\\: n = 0 \\\\\\pi - \\frac{1}{4 n} \\sin{\\left (4 \\pi n \\right )} & \\text{otherwise} \\end{cases}$$"
      ],
      "text/plain": [
       "⎧      0         for n = 0\n",
       "⎪                         \n",
       "⎨    sin(4⋅π⋅n)           \n",
       "⎪π - ──────────  otherwise\n",
       "⎩       4⋅n               "
      ]
     },
     "execution_count": 17,
     "metadata": {},
     "output_type": "execute_result"
    }
   ],
   "source": [
    "n= symbols('n')\n",
    "f=sin(n*x) \n",
    "resultat=integrate(f*f, (x,borne_depart,borne_arrivee))\n",
    "simplify(resultat) "
   ]
  },
  {
   "cell_type": "code",
   "execution_count": 15,
   "metadata": {},
   "outputs": [
    {
     "data": {
      "text/latex": [
       "$$\\begin{cases} 0 & \\text{for}\\: n = 0 \\\\\\frac{1}{n} \\left(\\pi n - \\frac{1}{4} \\sin{\\left (4 \\pi n \\right )}\\right) & \\text{otherwise} \\end{cases}$$"
      ],
      "text/plain": [
       "⎧       0          for n = 0\n",
       "⎪                           \n",
       "⎪      sin(4⋅π⋅n)           \n",
       "⎨π⋅n - ──────────           \n",
       "⎪          4                \n",
       "⎪────────────────  otherwise\n",
       "⎩       n                   "
      ]
     },
     "execution_count": 15,
     "metadata": {},
     "output_type": "execute_result"
    }
   ],
   "source": []
  },
  {
   "cell_type": "code",
   "execution_count": null,
   "metadata": {
    "collapsed": true
   },
   "outputs": [],
   "source": []
  }
 ],
 "metadata": {
  "kernelspec": {
   "display_name": "Python 3",
   "language": "python",
   "name": "python3"
  },
  "language_info": {
   "codemirror_mode": {
    "name": "ipython",
    "version": 3
   },
   "file_extension": ".py",
   "mimetype": "text/x-python",
   "name": "python",
   "nbconvert_exporter": "python",
   "pygments_lexer": "ipython3",
   "version": "3.5.4"
  }
 },
 "nbformat": 4,
 "nbformat_minor": 1
}
